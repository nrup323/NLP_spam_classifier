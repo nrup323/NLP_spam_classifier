{
 "cells": [
  {
   "cell_type": "markdown",
   "id": "occupied-creativity",
   "metadata": {
    "id": "hATsGRumiZ8f",
    "papermill": {
     "duration": 0.012216,
     "end_time": "2021-06-08T13:46:17.303485",
     "exception": false,
     "start_time": "2021-06-08T13:46:17.291269",
     "status": "completed"
    },
    "tags": []
   },
   "source": [
    "**Spam Classifer**"
   ]
  },
  {
   "cell_type": "code",
   "execution_count": 1,
   "id": "computational-coverage",
   "metadata": {
    "execution": {
     "iopub.execute_input": "2021-06-08T13:46:17.330641Z",
     "iopub.status.busy": "2021-06-08T13:46:17.329515Z",
     "iopub.status.idle": "2021-06-08T13:46:28.656943Z",
     "shell.execute_reply": "2021-06-08T13:46:28.657462Z",
     "shell.execute_reply.started": "2021-06-08T13:13:01.522051Z"
    },
    "papermill": {
     "duration": 11.343077,
     "end_time": "2021-06-08T13:46:28.657822",
     "exception": false,
     "start_time": "2021-06-08T13:46:17.314745",
     "status": "completed"
    },
    "tags": []
   },
   "outputs": [
    {
     "name": "stdout",
     "output_type": "stream",
     "text": [
      "Requirement already satisfied: nltk in /opt/conda/lib/python3.7/site-packages (3.2.4)\r\n",
      "Requirement already satisfied: six in /opt/conda/lib/python3.7/site-packages (from nltk) (1.15.0)\r\n",
      "[nltk_data] Downloading collection 'book'\n",
      "[nltk_data]    | \n",
      "[nltk_data]    | Downloading package abc to /usr/share/nltk_data...\n",
      "[nltk_data]    |   Package abc is already up-to-date!\n",
      "[nltk_data]    | Downloading package brown to /usr/share/nltk_data...\n",
      "[nltk_data]    |   Package brown is already up-to-date!\n",
      "[nltk_data]    | Downloading package chat80 to /usr/share/nltk_data...\n",
      "[nltk_data]    |   Package chat80 is already up-to-date!\n",
      "[nltk_data]    | Downloading package cmudict to\n",
      "[nltk_data]    |     /usr/share/nltk_data...\n",
      "[nltk_data]    |   Package cmudict is already up-to-date!\n",
      "[nltk_data]    | Downloading package conll2000 to\n",
      "[nltk_data]    |     /usr/share/nltk_data...\n",
      "[nltk_data]    |   Package conll2000 is already up-to-date!\n",
      "[nltk_data]    | Downloading package conll2002 to\n",
      "[nltk_data]    |     /usr/share/nltk_data...\n",
      "[nltk_data]    |   Package conll2002 is already up-to-date!\n",
      "[nltk_data]    | Downloading package dependency_treebank to\n",
      "[nltk_data]    |     /usr/share/nltk_data...\n",
      "[nltk_data]    |   Package dependency_treebank is already up-to-date!\n",
      "[nltk_data]    | Downloading package genesis to\n",
      "[nltk_data]    |     /usr/share/nltk_data...\n",
      "[nltk_data]    |   Package genesis is already up-to-date!\n",
      "[nltk_data]    | Downloading package gutenberg to\n",
      "[nltk_data]    |     /usr/share/nltk_data...\n",
      "[nltk_data]    |   Package gutenberg is already up-to-date!\n",
      "[nltk_data]    | Downloading package ieer to /usr/share/nltk_data...\n",
      "[nltk_data]    |   Package ieer is already up-to-date!\n",
      "[nltk_data]    | Downloading package inaugural to\n",
      "[nltk_data]    |     /usr/share/nltk_data...\n",
      "[nltk_data]    |   Package inaugural is already up-to-date!\n",
      "[nltk_data]    | Downloading package movie_reviews to\n",
      "[nltk_data]    |     /usr/share/nltk_data...\n",
      "[nltk_data]    |   Package movie_reviews is already up-to-date!\n",
      "[nltk_data]    | Downloading package nps_chat to\n",
      "[nltk_data]    |     /usr/share/nltk_data...\n",
      "[nltk_data]    |   Package nps_chat is already up-to-date!\n",
      "[nltk_data]    | Downloading package names to /usr/share/nltk_data...\n",
      "[nltk_data]    |   Package names is already up-to-date!\n",
      "[nltk_data]    | Downloading package ppattach to\n",
      "[nltk_data]    |     /usr/share/nltk_data...\n",
      "[nltk_data]    |   Package ppattach is already up-to-date!\n",
      "[nltk_data]    | Downloading package reuters to\n",
      "[nltk_data]    |     /usr/share/nltk_data...\n",
      "[nltk_data]    |   Package reuters is already up-to-date!\n",
      "[nltk_data]    | Downloading package senseval to\n",
      "[nltk_data]    |     /usr/share/nltk_data...\n",
      "[nltk_data]    |   Package senseval is already up-to-date!\n",
      "[nltk_data]    | Downloading package state_union to\n",
      "[nltk_data]    |     /usr/share/nltk_data...\n",
      "[nltk_data]    |   Package state_union is already up-to-date!\n",
      "[nltk_data]    | Downloading package stopwords to\n",
      "[nltk_data]    |     /usr/share/nltk_data...\n",
      "[nltk_data]    |   Package stopwords is already up-to-date!\n",
      "[nltk_data]    | Downloading package swadesh to\n",
      "[nltk_data]    |     /usr/share/nltk_data...\n",
      "[nltk_data]    |   Package swadesh is already up-to-date!\n",
      "[nltk_data]    | Downloading package timit to /usr/share/nltk_data...\n",
      "[nltk_data]    |   Package timit is already up-to-date!\n",
      "[nltk_data]    | Downloading package treebank to\n",
      "[nltk_data]    |     /usr/share/nltk_data...\n",
      "[nltk_data]    |   Package treebank is already up-to-date!\n",
      "[nltk_data]    | Downloading package toolbox to\n",
      "[nltk_data]    |     /usr/share/nltk_data...\n",
      "[nltk_data]    |   Package toolbox is already up-to-date!\n",
      "[nltk_data]    | Downloading package udhr to /usr/share/nltk_data...\n",
      "[nltk_data]    |   Package udhr is already up-to-date!\n",
      "[nltk_data]    | Downloading package udhr2 to /usr/share/nltk_data...\n",
      "[nltk_data]    |   Package udhr2 is already up-to-date!\n",
      "[nltk_data]    | Downloading package unicode_samples to\n",
      "[nltk_data]    |     /usr/share/nltk_data...\n",
      "[nltk_data]    |   Package unicode_samples is already up-to-date!\n",
      "[nltk_data]    | Downloading package webtext to\n",
      "[nltk_data]    |     /usr/share/nltk_data...\n",
      "[nltk_data]    |   Package webtext is already up-to-date!\n",
      "[nltk_data]    | Downloading package wordnet to\n",
      "[nltk_data]    |     /usr/share/nltk_data...\n",
      "[nltk_data]    |   Package wordnet is already up-to-date!\n",
      "[nltk_data]    | Downloading package wordnet_ic to\n",
      "[nltk_data]    |     /usr/share/nltk_data...\n",
      "[nltk_data]    |   Package wordnet_ic is already up-to-date!\n",
      "[nltk_data]    | Downloading package words to /usr/share/nltk_data...\n",
      "[nltk_data]    |   Package words is already up-to-date!\n",
      "[nltk_data]    | Downloading package maxent_treebank_pos_tagger to\n",
      "[nltk_data]    |     /usr/share/nltk_data...\n",
      "[nltk_data]    |   Package maxent_treebank_pos_tagger is already up-\n",
      "[nltk_data]    |       to-date!\n",
      "[nltk_data]    | Downloading package maxent_ne_chunker to\n",
      "[nltk_data]    |     /usr/share/nltk_data...\n",
      "[nltk_data]    |   Package maxent_ne_chunker is already up-to-date!\n",
      "[nltk_data]    | Downloading package universal_tagset to\n",
      "[nltk_data]    |     /usr/share/nltk_data...\n",
      "[nltk_data]    |   Package universal_tagset is already up-to-date!\n",
      "[nltk_data]    | Downloading package punkt to /usr/share/nltk_data...\n",
      "[nltk_data]    |   Package punkt is already up-to-date!\n",
      "[nltk_data]    | Downloading package book_grammars to\n",
      "[nltk_data]    |     /usr/share/nltk_data...\n",
      "[nltk_data]    |   Package book_grammars is already up-to-date!\n",
      "[nltk_data]    | Downloading package city_database to\n",
      "[nltk_data]    |     /usr/share/nltk_data...\n",
      "[nltk_data]    |   Package city_database is already up-to-date!\n",
      "[nltk_data]    | Downloading package tagsets to\n",
      "[nltk_data]    |     /usr/share/nltk_data...\n",
      "[nltk_data]    |   Package tagsets is already up-to-date!\n",
      "[nltk_data]    | Downloading package panlex_swadesh to\n",
      "[nltk_data]    |     /usr/share/nltk_data...\n",
      "[nltk_data]    | Downloading package averaged_perceptron_tagger to\n",
      "[nltk_data]    |     /usr/share/nltk_data...\n",
      "[nltk_data]    |   Package averaged_perceptron_tagger is already up-\n",
      "[nltk_data]    |       to-date!\n",
      "[nltk_data]    | \n",
      "[nltk_data]  Done downloading collection book\n"
     ]
    },
    {
     "data": {
      "text/plain": [
       "True"
      ]
     },
     "execution_count": 1,
     "metadata": {},
     "output_type": "execute_result"
    }
   ],
   "source": [
    "!pip3 install nltk\n",
    "import nltk\n",
    "nltk.download('book')"
   ]
  },
  {
   "cell_type": "code",
   "execution_count": 2,
   "id": "separate-hotel",
   "metadata": {
    "execution": {
     "iopub.execute_input": "2021-06-08T13:46:28.691996Z",
     "iopub.status.busy": "2021-06-08T13:46:28.691264Z",
     "iopub.status.idle": "2021-06-08T13:46:29.658685Z",
     "shell.execute_reply": "2021-06-08T13:46:29.658157Z",
     "shell.execute_reply.started": "2021-06-08T13:13:09.543392Z"
    },
    "papermill": {
     "duration": 0.98671,
     "end_time": "2021-06-08T13:46:29.658859",
     "exception": false,
     "start_time": "2021-06-08T13:46:28.672149",
     "status": "completed"
    },
    "tags": []
   },
   "outputs": [
    {
     "data": {
      "text/plain": [
       "{'encoding': 'Windows-1252', 'confidence': 0.7270322499829184, 'language': ''}"
      ]
     },
     "execution_count": 2,
     "metadata": {},
     "output_type": "execute_result"
    }
   ],
   "source": [
    "import chardet\n",
    "file = '../input/sms-spam-collection-dataset/spam.csv'\n",
    "with open(file, 'rb') as rawdata:\n",
    "    result = chardet.detect(rawdata.read(100000))\n",
    "result"
   ]
  },
  {
   "cell_type": "code",
   "execution_count": 3,
   "id": "literary-eleven",
   "metadata": {
    "execution": {
     "iopub.execute_input": "2021-06-08T13:46:29.694022Z",
     "iopub.status.busy": "2021-06-08T13:46:29.693284Z",
     "iopub.status.idle": "2021-06-08T13:46:29.718229Z",
     "shell.execute_reply": "2021-06-08T13:46:29.717603Z",
     "shell.execute_reply.started": "2021-06-08T13:13:41.707945Z"
    },
    "papermill": {
     "duration": 0.045441,
     "end_time": "2021-06-08T13:46:29.718401",
     "exception": false,
     "start_time": "2021-06-08T13:46:29.672960",
     "status": "completed"
    },
    "tags": []
   },
   "outputs": [],
   "source": [
    "#loading data\n",
    "import pandas as pd\n",
    "data = pd.read_csv('../input/sms-spam-collection-dataset/spam.csv',encoding='Windows-1252')\n",
    "#dataset = pd.read_csv('Mall_Customers.csv')"
   ]
  },
  {
   "cell_type": "code",
   "execution_count": 4,
   "id": "accessory-lounge",
   "metadata": {
    "execution": {
     "iopub.execute_input": "2021-06-08T13:46:29.755925Z",
     "iopub.status.busy": "2021-06-08T13:46:29.755230Z",
     "iopub.status.idle": "2021-06-08T13:46:29.757221Z",
     "shell.execute_reply": "2021-06-08T13:46:29.757662Z",
     "shell.execute_reply.started": "2021-06-08T13:13:43.009505Z"
    },
    "papermill": {
     "duration": 0.025053,
     "end_time": "2021-06-08T13:46:29.757875",
     "exception": false,
     "start_time": "2021-06-08T13:46:29.732822",
     "status": "completed"
    },
    "tags": []
   },
   "outputs": [],
   "source": [
    "X = data.iloc[:,1].values\n",
    "y = data.iloc[:,0].values\n",
    "\n",
    "X = X.reshape(len(X), 1)"
   ]
  },
  {
   "cell_type": "code",
   "execution_count": 5,
   "id": "optical-camcorder",
   "metadata": {
    "execution": {
     "iopub.execute_input": "2021-06-08T13:46:29.789671Z",
     "iopub.status.busy": "2021-06-08T13:46:29.789059Z",
     "iopub.status.idle": "2021-06-08T13:46:29.795481Z",
     "shell.execute_reply": "2021-06-08T13:46:29.795980Z",
     "shell.execute_reply.started": "2021-06-08T13:13:44.287206Z"
    },
    "papermill": {
     "duration": 0.024151,
     "end_time": "2021-06-08T13:46:29.796166",
     "exception": false,
     "start_time": "2021-06-08T13:46:29.772015",
     "status": "completed"
    },
    "tags": []
   },
   "outputs": [],
   "source": [
    "from sklearn.preprocessing import LabelEncoder\n",
    "\n",
    "le = LabelEncoder()\n",
    "y = le.fit_transform(y)\n"
   ]
  },
  {
   "cell_type": "code",
   "execution_count": 6,
   "id": "preliminary-monday",
   "metadata": {
    "execution": {
     "iopub.execute_input": "2021-06-08T13:46:29.827992Z",
     "iopub.status.busy": "2021-06-08T13:46:29.827292Z",
     "iopub.status.idle": "2021-06-08T13:46:29.831516Z",
     "shell.execute_reply": "2021-06-08T13:46:29.832061Z",
     "shell.execute_reply.started": "2021-06-08T13:13:45.657221Z"
    },
    "papermill": {
     "duration": 0.022051,
     "end_time": "2021-06-08T13:46:29.832264",
     "exception": false,
     "start_time": "2021-06-08T13:46:29.810213",
     "status": "completed"
    },
    "tags": []
   },
   "outputs": [],
   "source": [
    "import re\n",
    "from nltk.corpus import stopwords\n",
    "from nltk.stem import WordNetLemmatizer\n",
    "from nltk.stem import PorterStemmer"
   ]
  },
  {
   "cell_type": "code",
   "execution_count": 7,
   "id": "retired-holocaust",
   "metadata": {
    "execution": {
     "iopub.execute_input": "2021-06-08T13:46:29.863970Z",
     "iopub.status.busy": "2021-06-08T13:46:29.863278Z",
     "iopub.status.idle": "2021-06-08T13:53:16.948501Z",
     "shell.execute_reply": "2021-06-08T13:53:16.949036Z",
     "shell.execute_reply.started": "2021-06-08T13:13:47.294463Z"
    },
    "papermill": {
     "duration": 407.102935,
     "end_time": "2021-06-08T13:53:16.949281",
     "exception": false,
     "start_time": "2021-06-08T13:46:29.846346",
     "status": "completed"
    },
    "tags": []
   },
   "outputs": [],
   "source": [
    "corpus = []\n",
    "\n",
    "lemmatizer = WordNetLemmatizer()\n",
    "stem = PorterStemmer()\n",
    "\n",
    "for i in range(len(X)):\n",
    "    words = X[i,0]\n",
    "    words = re.sub('[^a-zA-Z]', ' ', words)\n",
    "    words = words.lower()\n",
    "    words = words.split()\n",
    "    words = [ stem.stem(word) for word in words if not word in set(stopwords.words())]\n",
    "    words = \" \".join(words)\n",
    "    corpus.append(words)\n",
    "    \n",
    "\n",
    "  "
   ]
  },
  {
   "cell_type": "code",
   "execution_count": 8,
   "id": "rational-emperor",
   "metadata": {
    "execution": {
     "iopub.execute_input": "2021-06-08T13:53:16.981918Z",
     "iopub.status.busy": "2021-06-08T13:53:16.981119Z",
     "iopub.status.idle": "2021-06-08T13:53:17.356079Z",
     "shell.execute_reply": "2021-06-08T13:53:17.355387Z",
     "shell.execute_reply.started": "2021-06-08T13:22:38.541227Z"
    },
    "papermill": {
     "duration": 0.392144,
     "end_time": "2021-06-08T13:53:17.356260",
     "exception": false,
     "start_time": "2021-06-08T13:53:16.964116",
     "status": "completed"
    },
    "tags": []
   },
   "outputs": [],
   "source": [
    "#bag of words need to vectorize this thing to use in the machine learning model\n",
    "\n",
    "from sklearn.feature_extraction.text import CountVectorizer\n",
    "cv = CountVectorizer()\n",
    "X = cv.fit_transform(corpus).toarray()"
   ]
  },
  {
   "cell_type": "code",
   "execution_count": 9,
   "id": "deadly-theme",
   "metadata": {
    "execution": {
     "iopub.execute_input": "2021-06-08T13:53:17.393590Z",
     "iopub.status.busy": "2021-06-08T13:53:17.392227Z",
     "iopub.status.idle": "2021-06-08T13:53:36.373541Z",
     "shell.execute_reply": "2021-06-08T13:53:36.374071Z",
     "shell.execute_reply.started": "2021-06-08T13:22:40.394235Z"
    },
    "papermill": {
     "duration": 19.003237,
     "end_time": "2021-06-08T13:53:36.374284",
     "exception": false,
     "start_time": "2021-06-08T13:53:17.371047",
     "status": "completed"
    },
    "tags": []
   },
   "outputs": [
    {
     "data": {
      "text/plain": [
       "RandomForestClassifier()"
      ]
     },
     "execution_count": 9,
     "metadata": {},
     "output_type": "execute_result"
    }
   ],
   "source": [
    "from sklearn.model_selection import train_test_split\n",
    "X_train, X_test, y_train, y_test = train_test_split(X,y, test_size = 0.2)\n",
    "\n",
    "from sklearn.ensemble import RandomForestClassifier\n",
    "rf = RandomForestClassifier()\n",
    "rf.fit(X_train, y_train)"
   ]
  },
  {
   "cell_type": "code",
   "execution_count": 10,
   "id": "favorite-archive",
   "metadata": {
    "execution": {
     "iopub.execute_input": "2021-06-08T13:53:36.411599Z",
     "iopub.status.busy": "2021-06-08T13:53:36.410824Z",
     "iopub.status.idle": "2021-06-08T13:53:36.540477Z",
     "shell.execute_reply": "2021-06-08T13:53:36.539705Z",
     "shell.execute_reply.started": "2021-06-08T13:22:59.443609Z"
    },
    "papermill": {
     "duration": 0.149273,
     "end_time": "2021-06-08T13:53:36.540633",
     "exception": false,
     "start_time": "2021-06-08T13:53:36.391360",
     "status": "completed"
    },
    "tags": []
   },
   "outputs": [],
   "source": [
    "y_pred = rf.predict(X_test)"
   ]
  },
  {
   "cell_type": "code",
   "execution_count": 11,
   "id": "civilian-entertainment",
   "metadata": {
    "execution": {
     "iopub.execute_input": "2021-06-08T13:53:36.574532Z",
     "iopub.status.busy": "2021-06-08T13:53:36.573748Z",
     "iopub.status.idle": "2021-06-08T13:53:36.579228Z",
     "shell.execute_reply": "2021-06-08T13:53:36.578658Z",
     "shell.execute_reply.started": "2021-06-08T13:22:59.594849Z"
    },
    "papermill": {
     "duration": 0.024408,
     "end_time": "2021-06-08T13:53:36.579375",
     "exception": false,
     "start_time": "2021-06-08T13:53:36.554967",
     "status": "completed"
    },
    "tags": []
   },
   "outputs": [
    {
     "name": "stdout",
     "output_type": "stream",
     "text": [
      "0.9730941704035875\n"
     ]
    }
   ],
   "source": [
    "from sklearn.metrics import accuracy_score\n",
    "print(accuracy_score(y_pred, y_test))"
   ]
  },
  {
   "cell_type": "code",
   "execution_count": null,
   "id": "foster-basic",
   "metadata": {
    "papermill": {
     "duration": 0.014252,
     "end_time": "2021-06-08T13:53:36.608251",
     "exception": false,
     "start_time": "2021-06-08T13:53:36.593999",
     "status": "completed"
    },
    "tags": []
   },
   "outputs": [],
   "source": []
  }
 ],
 "metadata": {
  "kernelspec": {
   "display_name": "Python 3",
   "language": "python",
   "name": "python3"
  },
  "language_info": {
   "codemirror_mode": {
    "name": "ipython",
    "version": 3
   },
   "file_extension": ".py",
   "mimetype": "text/x-python",
   "name": "python",
   "nbconvert_exporter": "python",
   "pygments_lexer": "ipython3",
   "version": "3.7.10"
  },
  "papermill": {
   "default_parameters": {},
   "duration": 449.138244,
   "end_time": "2021-06-08T13:53:38.086245",
   "environment_variables": {},
   "exception": null,
   "input_path": "__notebook__.ipynb",
   "output_path": "__notebook__.ipynb",
   "parameters": {},
   "start_time": "2021-06-08T13:46:08.948001",
   "version": "2.3.3"
  }
 },
 "nbformat": 4,
 "nbformat_minor": 5
}
